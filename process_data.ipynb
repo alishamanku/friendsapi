{
 "cells": [
  {
   "cell_type": "code",
   "execution_count": 1,
   "metadata": {
    "collapsed": true
   },
   "outputs": [],
   "source": [
    "import pandas as pd\n",
    "import re"
   ]
  },
  {
   "cell_type": "code",
   "execution_count": 3,
   "outputs": [],
   "source": [
    "def correct_text(text):\n",
    "    text = text.replace(\"Episdoe\", \"Episode\")\n",
    "    text = text.replace(\"Epsiode\", \"Episode\")\n",
    "    text = text.replace(\"Friends: The Stuff You've Never Seen\", \"Episode 724: Friends: The Stuff You've Never Seen\")\n",
    "    return text\n",
    "\n",
    "\n",
    "def get_season(text):\n",
    "    episode = int(get_episode(text))\n",
    "    return episode // 100\n",
    "\n",
    "\n",
    "def get_int_episode(text):\n",
    "    episode = int(get_episode(text))\n",
    "    return episode % 100\n",
    "\n",
    "\n",
    "def get_episode(text):\n",
    "    match = re.search(\"Episode (\\d+)\", text)\n",
    "    return match.group(1)\n",
    "\n"
   ],
   "metadata": {
    "collapsed": false
   }
  },
  {
   "cell_type": "code",
   "execution_count": 4,
   "outputs": [],
   "source": [
    "df = pd.read_csv(\"./Monica_Chandler_Gold_Annotation.csv\")\n",
    "df[\"episode\"] = df[\"episode\"].apply(correct_text)\n",
    "df = df.rename({\"episode\": \"title\"}, axis=1)\n",
    "df[\"season\"] = df[\"title\"].apply(get_season)\n",
    "df[\"episode\"] = df[\"title\"].apply(get_int_episode)\n",
    "df[\"texts\"] = df[\"texts\"].apply(eval)\n",
    "df.to_csv(\"annotated_data.csv\", index=False, encoding=\"utf-8\")"
   ],
   "metadata": {
    "collapsed": false
   }
  },
  {
   "cell_type": "code",
   "execution_count": 8,
   "outputs": [],
   "source": [
    "for each in df[\"episode\"].apply(correct_text):\n",
    "    if not re.search(\"Episode (\\d+)\", each):\n",
    "        print(each)"
   ],
   "metadata": {
    "collapsed": false
   }
  },
  {
   "cell_type": "code",
   "execution_count": 24,
   "outputs": [],
   "source": [
    "df2 = pd.read_csv(\"./annotated_data.csv\")"
   ],
   "metadata": {
    "collapsed": false
   }
  },
  {
   "cell_type": "code",
   "execution_count": 28,
   "outputs": [
    {
     "data": {
      "text/plain": "                                         title  \\\n0     Episode 101: The Pilot-The Uncut Version   \n1     Episode 101: The Pilot-The Uncut Version   \n2     Episode 101: The Pilot-The Uncut Version   \n3     Episode 101: The Pilot-The Uncut Version   \n4     Episode 101: The Pilot-The Uncut Version   \n...                                        ...   \n1143            Episode 1018: The Last One (2)   \n1144            Episode 1018: The Last One (2)   \n1145            Episode 1018: The Last One (2)   \n1146            Episode 1018: The Last One (2)   \n1147            Episode 1018: The Last One (2)   \n\n                                                  scene  \\\n0      Central Perk, Chandler, Joey, Phoebe, and Mon...   \n1      Central Perk, Chandler, Joey, Phoebe, and Mon...   \n2      Central Perk, Chandler, Joey, Phoebe, and Mon...   \n3      Central Perk, Chandler, Joey, Phoebe, and Mon...   \n4      Central Perk, Chandler, Joey, Phoebe, and Mon...   \n...                                                 ...   \n1143   Joey's apartment. Joey and Chandler are still...   \n1144   Joey's apartment. Monica has completely destr...   \n1145   Monica and Chandler's apartment. Joey, Chandl...   \n1146   Monica and Chandler's apartment. Chandler and...   \n1147   Monica and Chandler's apartment. Chandler and...   \n\n                                                  texts  gold_standard  \\\n0     [['Monica', \"Okay, everybody relax. This is no...              0   \n1     [['Chandler', \"All of a sudden, the phone star...              0   \n2     [['Chandler', 'Cookie?'], ['Monica', '(explain...              0   \n3     [['Chandler', 'And I just want a million dolla...              0   \n4     [['Monica', \"Now I'm guessing that he bought h...              0   \n...                                                 ...            ...   \n1143  [['Chandler', 'We have to bust it open, but ne...              0   \n1144  [['Monica', 'Alright. My job here is done.'], ...              0   \n1145  [['Monica', \"Well, that's it. Everything's pac...              0   \n1146  [['Monica', \"Oh, honey, I forgot. I promised T...              0   \n1147  [['Monica', '(crying) This is harder than I th...              1   \n\n      season  episode  \n0          1        1  \n1          1        1  \n2          1        1  \n3          1        1  \n4          1        1  \n...      ...      ...  \n1143      10       18  \n1144      10       18  \n1145      10       18  \n1146      10       18  \n1147      10       18  \n\n[1148 rows x 6 columns]",
      "text/html": "<div>\n<style scoped>\n    .dataframe tbody tr th:only-of-type {\n        vertical-align: middle;\n    }\n\n    .dataframe tbody tr th {\n        vertical-align: top;\n    }\n\n    .dataframe thead th {\n        text-align: right;\n    }\n</style>\n<table border=\"1\" class=\"dataframe\">\n  <thead>\n    <tr style=\"text-align: right;\">\n      <th></th>\n      <th>title</th>\n      <th>scene</th>\n      <th>texts</th>\n      <th>gold_standard</th>\n      <th>season</th>\n      <th>episode</th>\n    </tr>\n  </thead>\n  <tbody>\n    <tr>\n      <th>0</th>\n      <td>Episode 101: The Pilot-The Uncut Version</td>\n      <td>Central Perk, Chandler, Joey, Phoebe, and Mon...</td>\n      <td>[['Monica', \"Okay, everybody relax. This is no...</td>\n      <td>0</td>\n      <td>1</td>\n      <td>1</td>\n    </tr>\n    <tr>\n      <th>1</th>\n      <td>Episode 101: The Pilot-The Uncut Version</td>\n      <td>Central Perk, Chandler, Joey, Phoebe, and Mon...</td>\n      <td>[['Chandler', \"All of a sudden, the phone star...</td>\n      <td>0</td>\n      <td>1</td>\n      <td>1</td>\n    </tr>\n    <tr>\n      <th>2</th>\n      <td>Episode 101: The Pilot-The Uncut Version</td>\n      <td>Central Perk, Chandler, Joey, Phoebe, and Mon...</td>\n      <td>[['Chandler', 'Cookie?'], ['Monica', '(explain...</td>\n      <td>0</td>\n      <td>1</td>\n      <td>1</td>\n    </tr>\n    <tr>\n      <th>3</th>\n      <td>Episode 101: The Pilot-The Uncut Version</td>\n      <td>Central Perk, Chandler, Joey, Phoebe, and Mon...</td>\n      <td>[['Chandler', 'And I just want a million dolla...</td>\n      <td>0</td>\n      <td>1</td>\n      <td>1</td>\n    </tr>\n    <tr>\n      <th>4</th>\n      <td>Episode 101: The Pilot-The Uncut Version</td>\n      <td>Central Perk, Chandler, Joey, Phoebe, and Mon...</td>\n      <td>[['Monica', \"Now I'm guessing that he bought h...</td>\n      <td>0</td>\n      <td>1</td>\n      <td>1</td>\n    </tr>\n    <tr>\n      <th>...</th>\n      <td>...</td>\n      <td>...</td>\n      <td>...</td>\n      <td>...</td>\n      <td>...</td>\n      <td>...</td>\n    </tr>\n    <tr>\n      <th>1143</th>\n      <td>Episode 1018: The Last One (2)</td>\n      <td>Joey's apartment. Joey and Chandler are still...</td>\n      <td>[['Chandler', 'We have to bust it open, but ne...</td>\n      <td>0</td>\n      <td>10</td>\n      <td>18</td>\n    </tr>\n    <tr>\n      <th>1144</th>\n      <td>Episode 1018: The Last One (2)</td>\n      <td>Joey's apartment. Monica has completely destr...</td>\n      <td>[['Monica', 'Alright. My job here is done.'], ...</td>\n      <td>0</td>\n      <td>10</td>\n      <td>18</td>\n    </tr>\n    <tr>\n      <th>1145</th>\n      <td>Episode 1018: The Last One (2)</td>\n      <td>Monica and Chandler's apartment. Joey, Chandl...</td>\n      <td>[['Monica', \"Well, that's it. Everything's pac...</td>\n      <td>0</td>\n      <td>10</td>\n      <td>18</td>\n    </tr>\n    <tr>\n      <th>1146</th>\n      <td>Episode 1018: The Last One (2)</td>\n      <td>Monica and Chandler's apartment. Chandler and...</td>\n      <td>[['Monica', \"Oh, honey, I forgot. I promised T...</td>\n      <td>0</td>\n      <td>10</td>\n      <td>18</td>\n    </tr>\n    <tr>\n      <th>1147</th>\n      <td>Episode 1018: The Last One (2)</td>\n      <td>Monica and Chandler's apartment. Chandler and...</td>\n      <td>[['Monica', '(crying) This is harder than I th...</td>\n      <td>1</td>\n      <td>10</td>\n      <td>18</td>\n    </tr>\n  </tbody>\n</table>\n<p>1148 rows × 6 columns</p>\n</div>"
     },
     "execution_count": 28,
     "metadata": {},
     "output_type": "execute_result"
    }
   ],
   "source": [
    "df2"
   ],
   "metadata": {
    "collapsed": false
   }
  },
  {
   "cell_type": "code",
   "execution_count": 52,
   "outputs": [
    {
     "data": {
      "text/plain": "'<table border=\"1\" class=\"dataframe\">\\n  <thead>\\n    <tr style=\"text-align: right;\">\\n      <th></th>\\n      <th>title</th>\\n      <th>scene</th>\\n      <th>texts</th>\\n      <th>gold_standard</th>\\n      <th>season</th>\\n      <th>episode</th>\\n    </tr>\\n  </thead>\\n  <tbody>\\n    <tr>\\n      <th>0</th>\\n      <td>Episode 101: The Pilot-The Uncut Version</td>\\n      <td>Central Perk, Chandler, Joey, Phoebe, and Monica are there.</td>\\n      <td>[[\\'Monica\\', \"Okay, everybody relax. This is not even a\\\\ndate. It\\'s just two people going out to dinner and- not having sex.\"], [\\'Chandler\\', \\'Sounds like a date to me.\\']]</td>\\n      <td>0</td>\\n      <td>1</td>\\n      <td>1</td>\\n    </tr>\\n    <tr>\\n      <th>1</th>\\n      <td>Episode 101: The Pilot-The Uncut Version</td>\\n      <td>Central Perk, Chandler, Joey, Phoebe, and Monica are there.</td>\\n      <td>[[\\'Chandler\\', \"All of a sudden, the phone starts to ring.\\\\nNow I don\\'t know what to do, everybody starts looking at me.\"], [\\'Monica\\', \"And they weren\\'t looking at\\\\nyou before?!\"], [\\'Chandler\\', \"Finally, I figure\\\\nI\\'d better answer it, and it turns out it\\'s my mother,\\\\nwhich is very-very weird, because- she never calls me!\"]]</td>\\n      <td>0</td>\\n      <td>1</td>\\n      <td>1</td>\\n    </tr>\\n    <tr>\\n      <th>2</th>\\n      <td>Episode 101: The Pilot-The Uncut Version</td>\\n      <td>Central Perk, Chandler, Joey, Phoebe, and Monica are there.</td>\\n      <td>[[\\'Chandler\\', \\'Cookie?\\'], [\\'Monica\\', \\'(explaining to the others) Carol moved her\\\\nstuff out today.\\']]</td>\\n      <td>0</td>\\n      <td>1</td>\\n      <td>1</td>\\n    </tr>\\n    <tr>\\n      <th>3</th>\\n      <td>Episode 101: The Pilot-The Uncut Version</td>\\n      <td>Central Perk, Chandler, Joey, Phoebe, and Monica are there.</td>\\n      <td>[[\\'Chandler\\', \\'And I just want a million dollars! (He\\\\nextends his hand hopefully.)\\'], [\\'Monica\\', \\'Rachel?!\\']]</td>\\n      <td>0</td>\\n      <td>1</td>\\n      <td>1</td>\\n    </tr>\\n    <tr>\\n      <th>4</th>\\n      <td>Episode 101: The Pilot-The Uncut Version</td>\\n      <td>Central Perk, Chandler, Joey, Phoebe, and Monica are there.</td>\\n      <td>[[\\'Monica\\', \"Now I\\'m guessing that he bought her the big\\\\npipe organ, and she\\'s really not happy about it.\"], [\\'Chandler\\', \\'(imitating the characters)\\\\nTuna or egg salad?\\\\xa0 Decide!\\']]</td>\\n      <td>0</td>\\n      <td>1</td>\\n      <td>1</td>\\n    </tr>\\n    <tr>\\n      <th>5</th>\\n      <td>Episode 101: The Pilot-The Uncut Version</td>\\n      <td>Central Perk, Chandler, Joey, Phoebe, and Monica are there.</td>\\n      <td>[[\\'Monica\\', \\'Yes!\\'], [\\'Chandler\\', \\'Ooh, this is a Dear Diary moment.\\'], [\\'Monica\\', \\'Rach, wait, I can cancel...\\']]</td>\\n      <td>0</td>\\n      <td>1</td>\\n      <td>1</td>\\n    </tr>\\n    <tr>\\n      <th>6</th>\\n      <td>Episode 101: The Pilot-The Uncut Version</td>\\n      <td>Central Perk, Chandler, Joey, Phoebe, and Monica are there.</td>\\n      <td>[[\\'Chandler\\', \"I\\'m sorry, I didn\\'t catch your name. Paul,\\\\nwas it?\"], [\\'Monica\\', \"Okay, umm-umm, I\\'ll\\\\njust--I\\'ll be right back, I just gotta go ah, go ah...\"]]</td>\\n      <td>0</td>\\n      <td>1</td>\\n      <td>1</td>\\n    </tr>\\n  </tbody>\\n</table>'"
     },
     "execution_count": 52,
     "metadata": {},
     "output_type": "execute_result"
    }
   ],
   "source": [
    "df2.query(\"season==1 and episode==1\").to_html()"
   ],
   "metadata": {
    "collapsed": false
   }
  },
  {
   "cell_type": "code",
   "execution_count": 36,
   "outputs": [
    {
     "name": "stdout",
     "output_type": "stream",
     "text": [
      "<bound method Series.unique of 0      1\n",
      "1      1\n",
      "2      1\n",
      "3      1\n",
      "4      1\n",
      "5      1\n",
      "6      1\n",
      "7      2\n",
      "8      2\n",
      "9      2\n",
      "10     2\n",
      "11     2\n",
      "12     2\n",
      "13    12\n",
      "14    12\n",
      "15    19\n",
      "16    19\n",
      "Name: episode, dtype: int64>\n",
      "<bound method Series.unique of 17    2\n",
      "18    3\n",
      "19    3\n",
      "20    3\n",
      "21    3\n",
      "22    3\n",
      "23    3\n",
      "24    3\n",
      "25    6\n",
      "26    6\n",
      "27    6\n",
      "28    6\n",
      "29    7\n",
      "30    7\n",
      "31    7\n",
      "32    7\n",
      "33    7\n",
      "34    7\n",
      "Name: episode, dtype: int64>\n",
      "<bound method Series.unique of 35    16\n",
      "36    16\n",
      "37    16\n",
      "38    16\n",
      "39    17\n",
      "40    17\n",
      "41    17\n",
      "42    17\n",
      "43    17\n",
      "44    17\n",
      "45    17\n",
      "46    17\n",
      "47    17\n",
      "48    18\n",
      "49    18\n",
      "50    18\n",
      "51    18\n",
      "52    19\n",
      "53    19\n",
      "54    20\n",
      "55    20\n",
      "56    22\n",
      "57    22\n",
      "58    22\n",
      "59    22\n",
      "60    22\n",
      "61    22\n",
      "62    23\n",
      "63    23\n",
      "64    23\n",
      "65    23\n",
      "66    24\n",
      "67    24\n",
      "68    24\n",
      "69    24\n",
      "Name: episode, dtype: int64>\n",
      "<bound method Series.unique of 70      2\n",
      "71      2\n",
      "72      3\n",
      "73      4\n",
      "74      4\n",
      "       ..\n",
      "158    21\n",
      "159    23\n",
      "160    23\n",
      "161    23\n",
      "162    23\n",
      "Name: episode, Length: 93, dtype: int64>\n",
      "<bound method Series.unique of 163     1\n",
      "164     1\n",
      "165     1\n",
      "166     1\n",
      "167     1\n",
      "       ..\n",
      "344    23\n",
      "345    23\n",
      "346    23\n",
      "347    23\n",
      "348    23\n",
      "Name: episode, Length: 186, dtype: int64>\n",
      "<bound method Series.unique of 349     1\n",
      "350     1\n",
      "351     1\n",
      "352     1\n",
      "353     1\n",
      "       ..\n",
      "505    24\n",
      "506    24\n",
      "507    24\n",
      "508    24\n",
      "509    24\n",
      "Name: episode, Length: 161, dtype: int64>\n",
      "<bound method Series.unique of 510     1\n",
      "511     1\n",
      "512     1\n",
      "513     1\n",
      "514     1\n",
      "       ..\n",
      "685    23\n",
      "686    23\n",
      "687    23\n",
      "688    23\n",
      "689    24\n",
      "Name: episode, Length: 180, dtype: int64>\n",
      "<bound method Series.unique of 690     1\n",
      "691     1\n",
      "692     1\n",
      "693     1\n",
      "694     1\n",
      "       ..\n",
      "795    23\n",
      "796    23\n",
      "797    23\n",
      "798    23\n",
      "799    23\n",
      "Name: episode, Length: 110, dtype: int64>\n",
      "<bound method Series.unique of 800     1\n",
      "801     1\n",
      "802     1\n",
      "803     1\n",
      "804     2\n",
      "       ..\n",
      "948    24\n",
      "949    24\n",
      "950    24\n",
      "951    24\n",
      "952    24\n",
      "Name: episode, Length: 153, dtype: int64>\n",
      "<bound method Series.unique of 953      1\n",
      "954      1\n",
      "955      1\n",
      "956      1\n",
      "957      1\n",
      "        ..\n",
      "1143    18\n",
      "1144    18\n",
      "1145    18\n",
      "1146    18\n",
      "1147    18\n",
      "Name: episode, Length: 195, dtype: int64>\n"
     ]
    }
   ],
   "source": [
    "for s, each in df2.groupby(\"season\"):\n",
    "    print(each[\"episode\"].unique)"
   ],
   "metadata": {
    "collapsed": false
   }
  },
  {
   "cell_type": "code",
   "execution_count": 42,
   "outputs": [
    {
     "data": {
      "text/plain": "[1, 2, 3, 4, 5, 7, 8, 9, 10, 11, 12, 13, 14, 15, 16, 17, 18]"
     },
     "execution_count": 42,
     "metadata": {},
     "output_type": "execute_result"
    }
   ],
   "source": [
    "sorted(each[\"episode\"].unique().tolist())"
   ],
   "metadata": {
    "collapsed": false
   }
  },
  {
   "cell_type": "code",
   "execution_count": 7,
   "outputs": [],
   "source": [
    "import json\n",
    "\n",
    "res = open(\"../../../craw/result_html.txt\").readlines()\n",
    "res = [json.loads(each.strip()) for each in res]\n",
    "res = pd.DataFrame(res)\n",
    "res[\"title\"] = res[\"title\"].apply(correct_text)\n",
    "res[\"season\"] = res[\"title\"].apply(get_season)\n",
    "res[\"episode\"] = res[\"title\"].apply(get_int_episode)\n",
    "res.to_csv(\"all_corpus_html.csv\", index=False, encoding=\"utf-8\")"
   ],
   "metadata": {
    "collapsed": false
   }
  },
  {
   "cell_type": "code",
   "execution_count": 13,
   "outputs": [
    {
     "data": {
      "text/plain": "'\\n<font size=\"3\"><b>\\n\\n<p align=\"left\"></b>[Scene: Central Perk, Chandler, Joey, Phoebe, and Monica are there.]</font></p>\\n\\n<p align=\"left\"><font size=\"3\"><b>Monica:</b> There\\'s nothing to tell! He\\'s just some guy\\nI work with!</font></p>\\n\\n<p align=\"left\"><font size=\"3\"><b>Joey:</b> C\\'mon, you\\'re going out with the guy! There\\'s\\ngotta be something wrong with him!</font></p>\\n\\n<p align=\"left\"><font size=\"3\"><b>Chandler:</b> <font color=\"#0000FF\">All right Joey, be\\nnice.&nbsp; </font>So does he have a hump? A hump and a hairpiece?</font></p>\\n\\n<p align=\"left\"><font size=\"3\"><b>Phoebe:</b> Wait, does he eat chalk?</font></p>\\n\\n<p align=\"left\"><font size=\"3\">(They all stare, bemused.)</font></p>\\n\\n<p align=\"left\"><font size=\"3\"><b>Phoebe:</b> Just, \\'cause, I don\\'t want her to go through\\nwhat I went through with Carl- oh!</font></p>\\n\\n<p align=\"left\"><font size=\"3\"><b>Monica:</b> Okay, everybody relax. This is not even a\\ndate. It\\'s just two people going out to dinner and- not having sex.</font></p>\\n\\n<p align=\"left\"><font size=\"3\"><b>Chandler:</b> Sounds like a date to me.</font></p>\\n\\n<p align=\"left\"><font size=\"3\">[Time Lapse]</font></p>\\n\\n<p align=\"left\"><font size=\"3\"><b>Chandler:</b> Alright, so I\\'m back in high school, I\\'m\\nstanding in the middle of the cafeteria, and I realize I am totally naked.</font></p>\\n\\n<p align=\"left\"><font size=\"3\"><strong>All:</strong> Oh, yeah. Had that dream.</font></p>\\n\\n<p align=\"left\"><font size=\"3\"><b>Chandler:</b> Then I look down, and I realize there\\'s a\\nphone... there.</font></p>\\n\\n<p align=\"left\"><font size=\"3\"><b>Joey:</b> Instead of...?</font></p>\\n\\n<p align=\"left\"><font size=\"3\"><b>Chandler:</b> That\\'s right.</font></p>\\n\\n<p align=\"left\"><font size=\"3\"><b>Joey:</b> Never had that dream.</font></p>\\n\\n<p align=\"left\"><font size=\"3\"><b>Phoebe:</b> No.</font></p>\\n\\n<p align=\"left\"><font size=\"3\"><b>Chandler:</b> All of a sudden, the phone starts to ring.\\n<font color=\"#0000FF\">Now I don\\'t know what to do, everybody starts looking at me. </font></font></p>\\n\\n<p align=\"left\"><font size=\"3\" color=\"#0000FF\"><b>Monica:</b> And they weren\\'t looking at\\nyou before?!</font></p>\\n\\n<p align=\"left\"><font size=\"3\"><font color=\"#0000FF\"><b>Chandler:</b> Finally, I figure\\nI\\'d better answer it, </font><font color=\"#000000\">a</font>nd it turns out it\\'s my mother,\\nwhich is very-very weird, because- she never calls me!</font></p>\\n\\n<p align=\"left\"><font size=\"3\">[Time Lapse, Ross has entered.]</font></p>\\n\\n<p align=\"left\"><font size=\"3\"><b>Ross:</b> (mortified) Hi.</font></p>\\n\\n<p align=\"left\"><font size=\"3\"><b>Joey:</b> This guy says hello, I wanna kill myself.</font></p>\\n\\n<p align=\"left\"><font size=\"3\"><b>Monica:</b> Are you okay, sweetie?</font></p>\\n\\n<p align=\"left\"><font size=\"3\"><b>Ross:</b> I just feel like someone reached down my\\nthroat, grabbed my small intestine, pulled it out of my mouth and tied it around my\\nneck...</font></p>\\n\\n<p align=\"left\"><font size=\"3\"><b>Chandler:</b> Cookie?</font></p>\\n\\n<p align=\"left\"><font size=\"3\"><b>Monica:</b> (explaining to the others) Carol moved her\\nstuff out today. </font></p>\\n\\n<p align=\"left\"><font size=\"3\" color=\"#0000FF\"><b>Joey:</b> Ohh.</font></p>\\n\\n<p align=\"left\"><font size=\"3\"><font color=\"#000000\"><b>Monica:</b></font><font\\ncolor=\"#0000FF\"> </font>(to Ross) Let me get you some coffee.</font></p>\\n\\n<p align=\"left\"><font size=\"3\" color=\"#0000FF\"><b>Ross:</b> Thanks.</font></p>\\n\\n<p align=\"left\"><font size=\"3\"><b>Phoebe:</b> Ooh! Oh! (She starts to pluck at the air\\njust in front of Ross.)</font></p>\\n\\n<p align=\"left\"><font size=\"3\"><b>Ross:</b> No, no don\\'t! Stop cleansing my aura! No, just\\nleave my aura alone, okay?</font></p>\\n\\n<p align=\"left\"><font size=\"3\" color=\"#0000FF\"><b>Phoebe:</b> Fine!&nbsp; Be murky!</font></p>\\n\\n<p align=\"left\"><font size=\"3\"><font color=\"#000000\"><b>Ross:</b> </font>I\\'ll be fine,\\nalright? Really, everyone. I hope she\\'ll be very happy.</font></p>\\n\\n<p align=\"left\"><font size=\"3\"><b>Monica:</b> No you don\\'t.</font></p>\\n\\n<p align=\"left\"><font size=\"3\"><b>Ross:</b> No I don\\'t, to hell with her, she left me!</font></p>\\n\\n<p align=\"left\"><font size=\"3\"><b>Joey:</b> And you never knew she was a lesbian...</font></p>\\n\\n<p align=\"left\"><font size=\"3\"><b>Ross:</b> No!! Okay?! Why does everyone keep fixating on\\nthat? She didn\\'t know, how should I know?</font></p>\\n\\n<p align=\"left\"><font size=\"3\"><b>Chandler:</b> Sometimes I wish I was a lesbian... (They\\nall stare at him.) Did I say that out loud?</font></p>\\n\\n<p align=\"left\"><font size=\"3\" color=\"#0000FF\"><b>Ross:</b> I told mom and dad last night,\\nthey seemed to take it pretty well.</font></p>\\n\\n<p align=\"left\"><font size=\"3\" color=\"#0000FF\"><b>Monica:</b> Oh really, so that\\nhysterical phone call I got from a woman at sobbing 3:00 A.M., &quot;I\\'ll never have\\ngrandchildren, I\\'ll never have grandchildren.&quot; was what?&nbsp; A wrong number?</font></p>\\n\\n<p align=\"left\"><font size=\"3\" color=\"#0000FF\"><b>Ross:</b> Sorry.</font></p>\\n\\n<p align=\"left\"><font size=\"3\"><b>Joey:</b> Alright Ross, look. You\\'re feeling a lot of\\npain right now. You\\'re angry. You\\'re hurting. Can I tell you what the answer is?</font></p>\\n\\n<p align=\"left\"><font size=\"3\">(Ross gestures his consent.)</font></p>\\n\\n<p align=\"left\"><font size=\"3\"><b>Joey:</b> Strip joint! C\\'mon, you\\'re single! Have some\\nhormones!</font></p>\\n\\n<p align=\"left\"><font size=\"3\"><b>Ross:</b> I don\\'t want to be single, okay? I just... I\\njust- I just wanna be married again!</font></p>\\n\\n<p align=\"left\"><font size=\"3\">(Rachel enters in a wet wedding dress and starts to search\\nthe room.)</font></p>\\n\\n<p align=\"left\"><font size=\"3\"><b>Chandler:</b> And I just want a million dollars! (He\\nextends his hand hopefully.)</font></p>\\n\\n<p align=\"left\"><font size=\"3\"><b>Monica:</b> Rachel?!</font></p>\\n\\n<p align=\"left\"><font size=\"3\"><b>Rachel:</b> Oh God Monica hi! Thank God! I just went to\\nyour building and you weren\\'t there and then this guy with a big hammer said you might be\\nhere and you are, you are!</font></p>\\n\\n<p align=\"left\"><font size=\"3\"><strong>Waitress:</strong> Can I get you some coffee?</font></p>\\n\\n<p align=\"left\"><font size=\"3\"><b>Monica:</b> (pointing at Rachel) De-caff. (to All) Okay,\\neverybody, this is Rachel, another Lincoln High survivor. (to Rachel) This is everybody,\\nthis is Chandler, and Phoebe, and Joey, and- you remember my brother Ross? </font></p>\\n\\n<p align=\"left\"><font size=\"3\"><b>Rachel:</b> Hi, sure!</font></p>\\n\\n<p align=\"left\"><font size=\"3\"><b>Ross:</b> Hi. </font></p>\\n\\n<p align=\"left\"><font size=\"3\">(They go to hug but Ross\\'s umbrella opens.&nbsp; He sits\\nback down defeated again.&nbsp; A moment of silence follows as Rachel sits and the others\\nexpect her to explain.)</font></p>\\n\\n<p align=\"left\"><font size=\"3\"><b>Monica:</b> So you wanna tell us now, or are we waiting\\nfor four wet bridesmaids?</font></p>\\n\\n<p align=\"left\"><font size=\"3\"><b>Rachel:</b> Oh God... well, it started about a half hour\\nbefore the wedding. I was in the room where we were keeping all the presents, and I was\\nlooking at this gravy boat. This really gorgeous Lamauge gravy boat. When all of a sudden-\\n(to the waitress that brought her coffee)Sweet \\'n\\' Lo?- I realized that I was more turned\\non by this gravy boat than by Barry! And then I got really freaked out, and that\\'s when it\\nhit me: how much Barry looks like Mr. Potato Head. Y\\'know, I mean, I always knew looked\\nfamiliar, but... Anyway, I just had to get out of there, and I started wondering \\'Why am I\\ndoing this, and who am I doing this for?\\'. (to Monica) So anyway I just didn\\'t know where\\nto go, and I know that you and I have kinda drifted apart, but you\\'re the only person I\\nknew who lived here in the city.</font></p>\\n\\n<p align=\"left\"><font size=\"3\"><b>Monica:</b> Who wasn\\'t invited to the wedding.</font></p>\\n\\n<p align=\"left\"><font size=\"3\"><b>Rachel:</b> Ooh, I was kinda hoping that wouldn\\'t be an\\nissue... [Scene: Monica\\'s Apartment, everyone is there and watching a Spanish Soap on TV\\nand are trying to figure out what is going on.]</font></p>\\n\\n<p align=\"left\"><font size=\"3\"><b>Monica:</b> Now I\\'m guessing that he bought her the big\\npipe organ, and she\\'s really not happy about it. </font></p>\\n\\n<p align=\"left\"><font size=\"3\" color=\"#0000FF\"><b>Chandler:</b> (imitating the characters)\\nTuna or egg salad?&nbsp; Decide!</font></p>\\n\\n<p align=\"left\"><font size=\"3\" color=\"#0000FF\"><b>Ross:</b> (in a deep voice) I\\'ll have\\nwhatever Christine is having.</font></p>\\n\\n<p align=\"left\"><font size=\"3\"><b>Rachel:</b> (on phone) Daddy, I just... I can\\'t marry\\nhim! I\\'m sorry. I just don\\'t love him. Well, it matters to me! </font></p>\\n\\n<p align=\"left\"><font size=\"3\" color=\"#0000FF\">(The scene on TV has changed to show two\\nwomen, one is holding her hair.)</font></p>\\n\\n<p align=\"left\"><font size=\"3\"><font color=\"#0000FF\"><b>Phoebe:</b>&nbsp; If I let go of\\nmy hair, my head will fall off.</font> </font></p>\\n\\n<p align=\"left\"><font size=\"3\"><b>Chandler:</b> (re TV) Ooh, she should not be wearing\\nthose pants. </font></p>\\n\\n<p align=\"left\"><font size=\"3\"><b>Joey:</b> I say push her down the stairs. </font></p>\\n\\n<p align=\"left\"><font size=\"3\"><strong>Phoebe, Ross, Chandler, and <b>Joey:</b></strong>&nbsp;\\nPush her down the stairs! Push her down the stairs! Push her down the stairs!</font></p>\\n\\n<p align=\"left\"><font size=\"3\">(She is pushed down the stairs and everyone cheers.)</font></p>\\n\\n<p align=\"left\"><font size=\"3\"><b>Rachel:</b> C\\'mon Daddy, listen to me! It\\'s like, it\\'s\\nlike, all of my life, everyone has always told me, \\'You\\'re a shoe! You\\'re a shoe, you\\'re a\\nshoe, you\\'re a shoe!\\'. And today I just stopped and I said, \\'What if I don\\'t wanna be a\\nshoe? What if I wanna be a- a purse, y\\'know? Or a- or a hat! No, I\\'m not saying I want you\\nto buy me a hat, I\\'m saying I am a ha- It\\'s a metaphor, Daddy!</font></p>\\n\\n<p align=\"left\"><font size=\"3\"><b>Ross:</b> You can see where he\\'d have trouble.</font></p>\\n\\n<p align=\"left\"><font size=\"3\"><b>Rachel:</b> Look Daddy, it\\'s my life. Well maybe I\\'ll\\njust stay here with Monica. </font></p>\\n\\n<p align=\"left\"><font size=\"3\"><b>Monica:</b> Well, I guess we\\'ve established who\\'s\\nstaying here with Monica...</font></p>\\n\\n<p align=\"left\"><font size=\"3\"><b>Rachel:</b> Well, maybe that\\'s my decision. Well, maybe\\nI don\\'t need your money. Wait!! Wait, I said maybe!!</font></p>\\n\\n<p align=\"left\"><font size=\"3\">[Time Lapse, Rachel is breating into a paper bag.]</font></p>\\n\\n<p align=\"left\"><font size=\"3\"><b>Monica:</b> Just breathe, breathe.. that\\'s it. Just try\\nto think of nice calm things...</font></p>\\n\\n<p align=\"left\"><font size=\"3\"><b>Phoebe:</b> (sings) Raindrops on roses and rabbits and\\nkittens, (Rachel and Monica turn to look at her.) bluebells and sleighbells and- something\\nwith mittens... La la la la...<font color=\"#0000FF\">something and noodles with\\nstring.&nbsp; These are a few...</font></font></p>\\n\\n<p align=\"left\"><font size=\"3\"><b>Rachel:</b> I\\'m all better now.</font></p>\\n\\n<p align=\"left\"><font size=\"3\"><b>Phoebe:</b> (grins and walks to the kitchen and says to\\nChandler and Joey.) I helped!</font></p>\\n\\n<p align=\"left\"><font size=\"3\"><b>Monica:</b> Okay, look, this is probably for the best,\\ny\\'know? Independence. Taking control of your life.<font color=\"#0000FF\">&nbsp; The whole,\\n\\'hat\\' thing.</font></font></p>\\n\\n<p align=\"left\"><font size=\"3\"><b>Joey:</b> (comforting her) And hey, you need anything,\\nyou can always come to Joey. Me and Chandler live across the hall. And he\\'s away a lot.</font></p>\\n\\n<p align=\"left\"><font size=\"3\"><b>Monica:</b> Joey, stop hitting on her! It\\'s her wedding\\nday!</font></p>\\n\\n<p align=\"left\"><font size=\"3\"><b>Joey:</b> What, like there\\'s a rule or something?</font></p>\\n\\n<p align=\"left\"><font size=\"3\">(The door buzzer sounds and Chandler gets it.)</font></p>\\n\\n<p align=\"left\"><font size=\"3\"><b>Chandler:</b> Please don\\'t do that again, it\\'s a\\nhorrible sound.</font></p>\\n\\n<p align=\"left\"><font size=\"3\"><strong><b>Paul:</b></strong> (over the intercom) It\\'s, uh,\\nit\\'s Paul.</font></p>\\n\\n<p align=\"left\"><font size=\"3\"><b>Monica:</b> <font color=\"#0000FF\">Oh God, is it\\n6:30?&nbsp; </font>Buzz him in!</font></p>\\n\\n<p align=\"left\"><font size=\"3\"><b>Joey:</b> Who\\'s Paul?</font></p>\\n\\n<p align=\"left\"><font size=\"3\"><b>Ross:</b> Paul the Wine Guy, Paul?</font></p>\\n\\n<p align=\"left\"><font size=\"3\"><b>Monica:</b> Maybe. <b>Joey:</b> Wait. Your \\'not a real\\ndate\\' tonight is with Paul the Wine Guy?</font></p>\\n\\n<p align=\"left\"><font size=\"3\"><b>Ross:</b> He finally asked you out?</font></p>\\n\\n<p align=\"left\"><font size=\"3\"><b>Monica:</b> Yes!</font></p>\\n\\n<p align=\"left\"><font size=\"3\"><b>Chandler:</b> Ooh, this is a Dear Diary moment.</font></p>\\n\\n<p align=\"left\"><font size=\"3\"><b>Monica:</b> Rach, wait, I can cancel...</font></p>\\n\\n<p align=\"left\"><font size=\"3\"><b>Rachel:</b> Please, no, go, that\\'d be fine!</font></p>\\n\\n<p align=\"left\"><font size=\"3\"><b>Monica:</b> (to Ross) Are, are you okay? I mean, do you\\nwant me to stay?</font></p>\\n\\n<p align=\"left\"><font size=\"3\"><b>Ross:</b> (choked voice) That\\'d be good...</font></p>\\n\\n<p align=\"left\"><font size=\"3\"><b>Monica:</b> (horrified) Really?</font></p>\\n\\n<p align=\"left\"><font size=\"3\"><b>Ross:</b> (normal voice) No, go on! It\\'s Paul the Wine\\nGuy!</font></p>\\n\\n<p align=\"left\"><font size=\"3\" color=\"#0000FF\"><b>Phoebe:</b> What does that mean? &nbsp;\\nDoes he sell it, drink it, or just complain a lot? (Chandler doesn\\'t know.)</font></p>\\n\\n<p align=\"left\"><font size=\"3\">(There\\'s a knock on the door and it\\'s Paul.)</font></p>\\n\\n<p align=\"left\"><font size=\"3\"><b>Monica:</b> Hi, come in! Paul, this is.. (They are all\\nlined up next to the door.)... everybody, everybody, this is Paul.</font></p>\\n\\n<p align=\"left\"><font size=\"3\"><b>All:</b> Hey! Paul! Hi! The Wine Guy! Hey!</font></p>\\n\\n<p align=\"left\"><font size=\"3\"><b>Chandler:</b> I\\'m sorry, I didn\\'t catch your name. Paul,\\nwas it?</font></p>\\n\\n<p align=\"left\"><font size=\"3\"><b>Monica:</b> <font color=\"#0000FF\">Okay, umm-umm, I\\'ll\\njust--I\\'ll be right back, I just gotta go ah, go ah...</font></font></p>\\n\\n<p align=\"left\"><font size=\"3\" color=\"#0000FF\"><b>Ross:</b> A wandering?</font></p>\\n\\n<p align=\"left\"><font size=\"3\"><font color=\"#0000FF\"><b>Monica:</b> Change!&nbsp; Okay,\\nsit down. </font>(Shows Paul in) Two seconds.</font></p>\\n\\n<p align=\"left\"><font size=\"3\"><b>Phoebe:</b> Ooh, I just pulled out four eyelashes. That\\ncan\\'t be good.</font></p>\\n\\n<p align=\"left\"><font size=\"3\" color=\"#0000FF\">(Monica goes to change.)</font></p>\\n\\n<p align=\"left\"><font size=\"3\" color=\"#0000FF\"><b>Joey:</b>&nbsp; Hey, Paul!</font></p>\\n\\n<p align=\"left\"><font size=\"3\" color=\"#0000FF\"><b>Paul:</b> Yeah?</font></p>\\n\\n<p align=\"left\"><font size=\"3\" color=\"#0000FF\"><b>Joey:</b> Here\\'s a little tip, she\\nreally likes it when you rub her neck in the same spot over and over and over again until\\nit starts to get a little red.</font></p>\\n\\n<p align=\"left\"><font size=\"3\" color=\"#0000FF\"><b>Monica:</b> (yelling from the bedroom)\\nShut up, Joey!</font></p>\\n\\n<p align=\"left\"><font size=\"3\"><b>Ross:</b> So Rachel, what\\'re you, uh... what\\'re you up\\nto tonight?</font></p>\\n\\n<p align=\"left\"><font size=\"3\"><b>Rachel:</b> Well, I was kinda supposed to be headed for\\nAruba on my honeymoon, so nothing!</font></p>\\n\\n<p align=\"left\"><font size=\"3\"><b>Ross:</b> Right, you\\'re not even getting your honeymoon,\\nGod.. No, no, although, Aruba, this time of year... talk about your- (thinks) -big\\nlizards... Anyway, if you don\\'t feel like being alone tonight, Joey and Chandler are\\ncoming over to help me put together my new furniture.</font></p>\\n\\n<p align=\"left\"><font size=\"3\"><b>Chandler:</b> (deadpan) Yes, and we\\'re very excited\\nabout it. </font></p>\\n\\n<p align=\"left\"><font size=\"3\"><b>Rachel:</b> Well actually thanks, but I think I\\'m just\\ngonna hang out here tonight.&nbsp; <font color=\"#0000FF\">It\\'s been kinda a long day.</font></font></p>\\n\\n<p align=\"left\"><font size=\"3\"><b>Ross:</b> Okay, sure.</font></p>\\n\\n<p align=\"left\"><font size=\"3\"><b>Joey:</b> Hey Pheebs, you wanna help?</font></p>\\n\\n<p align=\"left\"><font size=\"3\"><b>Phoebe:</b> Oh, I wish I could, but I don\\'t want to.</font></p>\\n\\n<p align=\"center\"><b><font size=\"3\">Commercial Break</font></b></p>\\n\\n<p align=\"left\"><font size=\"3\" color=\"#0000FF\">[Scene: The Subway, Phoebe is singing for\\nchange.]</font></p>\\n\\n<p align=\"left\"><font size=\"3\" color=\"#0000FF\"><b>Phoebe:</b> (singing) Love is sweet as\\nsummer showers, love is a wondrous work of art, but your love oh your love, your love...is\\nlike a giant pigeon...crapping on my heart.&nbsp; La-la-la-la-la- (some guy gives her some\\nchange and to that guy) Thank you. (sings) La-la-la-la...ohhh!</font></p>\\n\\n<p align=\"left\"><font size=\"3\">[Scene: Ross\\'s Apartment, the guys are there assembling\\nfurniture.]</font></p>\\n\\n<p align=\"left\"><font size=\"3\"><b>Ross:</b> (squatting and reading the instructions) I\\'m\\nsupposed to attach a brackety thing to the side things, using a bunch of these little worm\\nguys. I have no brackety thing, I see no whim guys whatsoever and- I cannot feel my legs.</font></p>\\n\\n<p align=\"left\"><font size=\"3\" color=\"#0000FF\">(Joey and Chandler are finishing assembling\\nthe bookcase.)</font></p>\\n\\n<p align=\"left\"><font size=\"3\" color=\"#0000FF\"><b>Joey:</b> I\\'m thinking we\\'ve got a\\nbookcase here.</font></p>\\n\\n<p align=\"left\"><font size=\"3\" color=\"#0000FF\"><b>Chandler:</b> It\\'s a beautiful thing.</font></p>\\n\\n<p align=\"left\"><font size=\"3\"><b>Joey:</b> (picking up a leftover part) What\\'s this?</font></p>\\n\\n<p align=\"left\"><font size=\"3\" color=\"#0000FF\"><strong>Chandler: </strong>I would have to\\nsay that is an \\'L\\'-shaped bracket.</font></p>\\n\\n<p align=\"left\"><font size=\"3\" color=\"#0000FF\"><b>Joey:</b> Which goes where?</font></p>\\n\\n<p align=\"left\"><font size=\"3\"><font color=\"#000000\"><b>Chandler:</b> </font>I have no\\nidea.</font></p>\\n\\n<p align=\"left\"><font size=\"3\">(Joey checks that Ross is not looking and dumps it in a\\nplant.)</font></p>\\n\\n<p align=\"left\"><font size=\"3\"><b>Joey:</b> Done with the bookcase!</font></p>\\n\\n<p align=\"left\"><font size=\"3\"><b>Chandler:</b> All finished!</font></p>\\n\\n<p align=\"left\"><font size=\"3\"><b>Ross:</b> (clutching a beer can and sniffing) This was\\nCarol\\'s favorite beer. She always drank it out of the can, I should have known.</font></p>\\n\\n<p align=\"left\"><font size=\"3\" color=\"#0000FF\"><b>Joey:</b> Hey-hey-hey-hey, if you\\'re\\ngonna start with that stuff we\\'re outta here.</font></p>\\n\\n<p align=\"left\"><font size=\"3\" color=\"#0000FF\"><b>Chandler:</b> Yes, please don\\'t spoil\\nall this fun.</font></p>\\n\\n<p align=\"left\"><font size=\"3\"><b>Joey:</b> Ross, let me ask you a question. She got the\\nfurniture, the stereo, the good TV- what did you get?</font></p>\\n\\n<p align=\"left\"><font size=\"3\"><b>Ross:</b> You guys.</font></p>\\n\\n<p align=\"left\"><font size=\"3\"><b>Chandler:</b> Oh, God.</font></p>\\n\\n<p align=\"left\"><font size=\"3\"><b>Joey:</b> You got screwed.</font></p>\\n\\n<p align=\"left\"><font size=\"3\" color=\"#0000FF\"><b>Chandler:</b> Oh my God!</font></p>\\n\\n<p align=\"left\"><font size=\"3\">[Scene: A Restaurant, Monica and Paul are eating.]</font></p>\\n\\n<p align=\"left\"><font size=\"3\"><b>Monica:</b> Oh my God!</font></p>\\n\\n<p align=\"left\"><font size=\"3\"><b>Paul:</b> I know, I know, I\\'m such an idiot. I guess I\\nshould have caught on when she started going to the dentist four and five times a week. I\\nmean, how clean can teeth get?</font></p>\\n\\n<p align=\"left\"><font size=\"3\"><b>Monica:</b> My brother\\'s going through that right now,\\nhe\\'s such a mess. How did you get through it?</font></p>\\n\\n<p align=\"left\"><font size=\"3\"><b>Paul:</b> Well, you might try accidentally breaking\\nsomething valuable of hers, say her-</font></p>\\n\\n<p align=\"left\"><font size=\"3\"><b>Monica:</b> -leg?</font></p>\\n\\n<p align=\"left\"><font size=\"3\"><b>Paul:</b> (laughing) That\\'s one way! Me, I- I went for\\nthe watch.</font></p>\\n\\n<p align=\"left\"><font size=\"3\"><b>Monica:</b> You actually broke her watch?<font\\ncolor=\"#0000FF\">&nbsp; Wow!&nbsp; The worst thing I ever did was, I-I shredded by\\nboyfriend\\'s favorite bath towel.</font></font></p>\\n\\n<p align=\"left\"><font size=\"3\" color=\"#0000FF\"><b>Paul:</b> Ooh, steer clear of you.</font></p>\\n\\n<p align=\"left\"><font size=\"3\"><font color=\"#0000FF\"><b>Monica:</b> That\\'s right.</font>\\n[Scene: Monica\\'s Apartment, Rachel is talking on the phone and pacing.]</font></p>\\n\\n<p align=\"left\"><font size=\"3\"><b>Rachel:</b> Barry, I\\'m sorry... I am so sorry... I know\\nyou probably think that this is all about what I said the other day about you making love\\nwith your socks on, but it isn\\'t... it isn\\'t, it\\'s about me, and I ju- (She stops talking\\nand dials the phone.) Hi, machine cut me off again... anyway...<font color=\"#0000FF\">look,\\nlook, I know that some girl is going to be incredibly lucky to become Mrs. Barry Finkel,\\nbut it isn\\'t me, it\\'s not me.&nbsp; And not that I have any idea who me is right now, but\\nyou just have to give me a chance too... (The maching cuts her off again and she redials.)</font></font></p>\\n\\n<p align=\"left\"><font size=\"3\">[Scene: Ross\\'s Apartment; Ross is pacing while Joey and\\nChandler are working on some more furniture.]</font></p>\\n\\n<p align=\"left\"><font size=\"3\" color=\"#0000FF\"><b>Ross:</b> I\\'m divorced!&nbsp; I\\'m only\\n26 and I\\'m divorced!</font></p>\\n\\n<p align=\"left\"><font size=\"3\" color=\"#0000FF\"><b>Joey:</b> Shut up!</font></p>\\n\\n<p align=\"left\"><font size=\"3\" color=\"#0000FF\"><b>Chandler:</b> You must stop! (Chandler\\nhits what he is working on with a hammer and it collapses.)</font></p>\\n\\n<p align=\"left\"><font size=\"3\" color=\"#0000FF\"><b>Ross:</b> That only took me an hour.</font></p>\\n\\n<p align=\"left\"><font size=\"3\" color=\"#0000FF\"><b>Chandler:</b> Look, Ross, you gotta\\nunderstand, between us we haven\\'t had a relationship that has lasted longer than a Mento.\\n&nbsp; <strong>You</strong>, however have had the love of a woman for four years. &nbsp;\\nFour years of closeness and sharing at the end of which she ripped your heart out, and\\nthat is why we don\\'t do it!&nbsp; I don\\'t think that was my point!</font></p>\\n\\n<p align=\"left\"><font size=\"3\"><b>Ross:</b> You know what the scariest part is? What if\\nthere\\'s only one woman for everybody, y\\'know? I mean what if you get one woman- and that\\'s\\nit? Unfortunately in my case, there was only one woman- for her...</font></p>\\n\\n<p align=\"left\"><font size=\"3\"><b>Joey:</b> What are you talking about? \\'One woman\\'?\\nThat\\'s like saying there\\'s only one flavor of ice cream for you. Lemme tell you something,\\nRoss. There\\'s lots of flavors out there. There\\'s Rocky Road, and Cookie Dough, and Bing!\\nCherry Vanilla. You could get \\'em with Jimmies, or nuts, or whipped cream! This is the\\nbest thing that ever happened to you! You got married, you were, like, what, eight?\\nWelcome back to the world! Grab a spoon!</font></p>\\n\\n<p align=\"left\"><font size=\"3\"><b>Ross:</b> I honestly don\\'t know if I\\'m hungry or horny.</font></p>\\n\\n<p align=\"left\"><font size=\"3\"><b>Chandler:</b> Stay out of my freezer! [Scene: A\\nRestaurant, Monica and Paul are still eating.]</font></p>\\n\\n<p align=\"left\"><font size=\"3\"><b>Paul:</b> Ever since she walked out on me, I, uh...</font></p>\\n\\n<p align=\"left\"><font size=\"3\"><b>Monica:</b> What?..... What, you wanna spell it out with\\nnoodles?</font></p>\\n\\n<p align=\"left\"><font size=\"3\"><b>Paul:</b> No, it\\'s, it\\'s more of a fifth date kinda\\nrevelation.</font></p>\\n\\n<p align=\"left\"><font size=\"3\"><b>Monica:</b> Oh, so there is gonna be a fifth date?</font></p>\\n\\n<p align=\"left\"><font size=\"3\"><b>Paul:</b> Isn\\'t there?</font></p>\\n\\n<p align=\"left\"><font size=\"3\"><b>Monica:</b> Yeah... yeah, I think there is. -What were\\nyou gonna say?</font></p>\\n\\n<p align=\"left\"><font size=\"3\"><b>Paul:</b> Well, ever-ev-... ever since she left me, um,\\nI haven\\'t been able to, uh, perform. (Monica takes a sip of her drink.) ...Sexually. </font></p>\\n\\n<p align=\"left\"><font size=\"3\"><b>Monica:</b> (spitting out her drink in shock) Oh God, oh\\nGod, I am sorry... I am so sorry...</font></p>\\n\\n<p align=\"left\"><font size=\"3\"><b>Paul:</b> It\\'s okay...</font></p>\\n\\n<p align=\"left\"><font size=\"3\"><b>Monica:</b> I know being spit on is probably not what\\nyou need right now. Um... how long?</font></p>\\n\\n<p align=\"left\"><font size=\"3\"><b>Paul:</b> Two years.</font></p>\\n\\n<p align=\"left\"><font size=\"3\"><b>Monica:</b> Wow! I\\'m-I\\'m-I\\'m glad you smashed her watch!\\n</font></p>\\n\\n<p align=\"left\"><font size=\"3\"><b>Paul:</b> So you still think you, um... might want that\\nfifth date?</font></p>\\n\\n<p align=\"left\"><font size=\"3\"><b>Monica:</b> (pause)...Yeah. Yeah, I do.</font></p>\\n\\n<p align=\"left\"><font size=\"3\">[Scene: Monica\\'s Apartment, Rachel is watching <em>Joanne\\nLoves Chaci</em>.]</font></p>\\n\\n<p align=\"left\"><font size=\"3\"><font color=\"#0000FF\"><strong>Priest on TV:</strong></font>\\n<font color=\"#0000FF\">We are gathered here today to join Joanne Louise Cunningham and\\nCharles, Chachi-Chachi-Chachi, Arcola in the bound of holy matrimony.</font></font></p>\\n\\n<p align=\"left\"><font size=\"3\"><b>Rachel:</b> Oh...see... but Joanne loved Chachi! That\\'s\\nthe difference!</font></p>\\n\\n<p align=\"left\"><font size=\"3\">[Scene: Ross\\'s Apartment, they\\'re all sitting around and\\ntalking.]</font></p>\\n\\n<p align=\"left\"><font size=\"3\"><b>Ross:</b> (scornful) Grab a spoon. Do you know how long\\nit\\'s been since I\\'ve grabbed a spoon? Do the words \\'Billy, don\\'t be a hero\\' mean anything\\nto you? </font></p>\\n\\n<p align=\"left\"><font size=\"3\" color=\"#0000FF\"><b>Joey:</b> Great story!&nbsp; But, I uh,\\nI gotta go, I got a date with Andrea--Angela--Andrea...&nbsp; Oh man, (looks to Chandler)</font></p>\\n\\n<p align=\"left\"><font size=\"3\" color=\"#0000FF\"><b>Chandler:</b> Angela\\'s the screamer,\\nAndrea has cats.</font></p>\\n\\n<p align=\"left\"><font size=\"3\" color=\"#0000FF\"><b>Joey:</b> Right.&nbsp; Thanks.&nbsp;\\nIt\\'s June.&nbsp; I\\'m outta here. (Exits.)</font></p>\\n\\n<p align=\"left\"><font size=\"3\"><b>Ross:</b> Y\\'know, here\\'s the thing. Even if I could get\\nit together enough to- to ask a woman out,... who am I gonna ask? (He gazes out of the\\nwindow.)</font></p>\\n\\n<p align=\"left\"><font size=\"3\">[Cut to Rachel staring out of her window.]</font></p>\\n\\n<p align=\"center\"><b><font size=\"3\" color=\"#0000FF\">Commercial Break</font></b></p>\\n\\n<p align=\"left\"><font size=\"3\">[Scene: Monica\\'s Apartment, Rachel is making coffee for\\nJoey and Chandler.]</font></p>\\n\\n<p align=\"left\"><font size=\"3\"><b>Rachel:</b> Isn\\'t this amazing? I mean, I have never\\nmade coffee before in my entire life.</font></p>\\n\\n<p align=\"left\"><font size=\"3\"><b>Chandler:</b> That is amazing.</font></p>\\n\\n<p align=\"left\"><font size=\"3\"><b>Joey:</b> Congratulations. </font></p>\\n\\n<p align=\"left\"><font size=\"3\" color=\"#0000FF\"><b>Rachel:</b> Y\\'know, I figure if I can\\nmake coffee, there isn\\'t anything I can\\'t do.</font></p>\\n\\n<p align=\"left\"><font size=\"3\" color=\"#0000FF\"><b>Chandler:</b> If can invade Poland,\\nthere isn\\'t anything I can\\'t do.</font></p>\\n\\n<p align=\"left\"><font size=\"3\"><b>Joey:</b> Listen, while you\\'re on a roll, if you feel\\nlike you gotta make like a Western omelet or something... (Joey and Chandler taste the\\ncoffee, grimace, and pour it into a plant pot.) Although actually I\\'m really not that\\nhungry...</font></p>\\n\\n<p align=\"left\"><font size=\"3\" color=\"#0000FF\"><b>Monica:</b> (entering, to herself) Oh\\ngood, Lenny and Squigy are here.</font></p>\\n\\n<p align=\"left\"><font size=\"3\"><b>All:</b> Morning. Good morning.</font></p>\\n\\n<p align=\"left\"><font size=\"3\"><strong><b>Paul:</b></strong> (entering from Monica\\'s room)\\nMorning.</font></p>\\n\\n<p align=\"left\"><font size=\"3\"><b>Joey:</b> Morning, Paul.</font></p>\\n\\n<p align=\"left\"><font size=\"3\"><b>Rachel:</b> Hello, Paul.</font></p>\\n\\n<p align=\"left\"><font size=\"3\"><b>Chandler:</b> Hi, Paul, is it?</font></p>\\n\\n<p align=\"left\"><font size=\"3\">(Monica and Paul walk to the door and talk in a low voice\\nso the others can\\'t hear.&nbsp; The others move Monica\\'s table closer to the door so that\\nthey can.)</font></p>\\n\\n<p align=\"left\"><font size=\"3\" color=\"#0000FF\"><b>Paul:</b> Thank you!&nbsp; Thank you so\\nmuch!</font></p>\\n\\n<p align=\"left\"><font size=\"3\" color=\"#0000FF\"><b>Monica:</b> Stop!</font></p>\\n\\n<p align=\"left\"><font size=\"3\" color=\"#0000FF\"><b>Paul:</b> No, I\\'m telling you last night\\nwas like umm, all my birthdays, both graduations, plus the barn raising scene in <em>Witness</em>.</font></p>\\n\\n<p align=\"left\"><font size=\"3\" color=\"#0000FF\"><b>Monica:</b> We\\'ll talk later.</font></p>\\n\\n<p align=\"left\"><font size=\"3\"><b>Paul:</b> Yeah. (They kiss) Thank you. (Exits)</font></p>\\n\\n<p align=\"left\"><font size=\"3\"><b>Joey:</b> That wasn\\'t a real date?! What the hell do you\\ndo on a real date?</font></p>\\n\\n<p align=\"left\"><font size=\"3\"><b>Monica:</b> Shut up, and put my table back.</font></p>\\n\\n<p align=\"left\"><font size=\"3\"><b>All:</b> Okayyy! (They do so.)</font></p>\\n\\n<p align=\"left\"><font size=\"3\"><b>Chandler:</b> All right, kids, I gotta get to work. If I\\ndon\\'t input those numbers,... it doesn\\'t make much of a difference... </font></p>\\n\\n<p align=\"left\"><font size=\"3\"><b>Rachel:</b> So, like, you guys all have jobs?</font></p>\\n\\n<p align=\"left\"><font size=\"3\"><b>Monica:</b> Yeah, we all have jobs. See, that\\'s how we\\nbuy stuff.</font></p>\\n\\n<p align=\"left\"><font size=\"3\"><b>Joey:</b> Yeah, I\\'m an actor.</font></p>\\n\\n<p align=\"left\"><font size=\"3\"><b>Rachel:</b> Wow! Would I have seen you in anything?</font></p>\\n\\n<p align=\"left\"><font size=\"3\"><b>Joey:</b> I doubt it. Mostly regional work.</font></p>\\n\\n<p align=\"left\"><font size=\"3\"><b>Monica:</b> Oh wait, wait, unless you happened to catch\\nthe Reruns\\' production of Pinocchio<font color=\"#0000FF\">, at the little theater in the\\npark.</font></font></p>\\n\\n<p align=\"left\"><font size=\"3\" color=\"#0000FF\"><b>Joey:</b> Look, it was a job all right?</font></p>\\n\\n<p align=\"left\"><font size=\"3\"><b>Chandler:</b> \\'Look, Gippetto, I\\'m a real live boy.\\'</font></p>\\n\\n<p align=\"left\"><font size=\"3\"><b>Joey:</b> I will not take this abuse. (Walks to the door\\nand opens it to leave.)</font></p>\\n\\n<p align=\"left\"><font size=\"3\"><b>Chandler:</b> You\\'re right, I\\'m sorry. (Burst into song\\nand dances out of the door.) &quot;<em>Once I was a wooden boy, a little wooden boy...</em>&quot;</font></p>\\n\\n<p align=\"left\"><font size=\"3\"><font color=\"#0000FF\"><b>Joey:</b> You should both know,\\nthat he\\'s a dead man.&nbsp; Oh, Chandler? (Starts after Chandler.)</font> </font></p>\\n\\n<p align=\"left\"><font size=\"3\"><b>Monica:</b> So how you doing today? Did you sleep okay?\\nTalk to Barry? I can\\'t stop smiling.</font></p>\\n\\n<p align=\"left\"><font size=\"3\"><b>Rachel:</b> I can see that. You look like you slept with\\na hanger in your mouth.</font></p>\\n\\n<p align=\"left\"><font size=\"3\"><b>Monica:</b> I know, he\\'s just so, so... Do you remember\\nyou and Tony DeMarco?</font></p>\\n\\n<p align=\"left\"><font size=\"3\"><b>Rachel:</b> Oh, yeah.</font></p>\\n\\n<p align=\"left\"><font size=\"3\"><b>Monica:</b> Well, it\\'s like that. With feelings.</font></p>\\n\\n<p align=\"left\"><font size=\"3\"><b>Rachel:</b> Oh wow. Are you in trouble.</font></p>\\n\\n<p align=\"left\"><font size=\"3\" color=\"#0000FF\"><b>Monica:</b> Big time!</font></p>\\n\\n<p align=\"left\"><font size=\"3\" color=\"#0000FF\"><b>Rachel:</b> Want a wedding dress? &nbsp;\\nHardly used.</font></p>\\n\\n<p align=\"left\"><font size=\"3\"><font color=\"#0000FF\"><b>Monica:</b> I think we are getting\\na little ahead of selves here.</font> Okay. Okay. I am just going to get up, go to work\\nand not think about him all day. Or else I\\'m just gonna get up and go to work.</font></p>\\n\\n<p align=\"left\"><font size=\"3\"><b>Rachel:</b> Oh, look, wish me luck!</font></p>\\n\\n<p align=\"left\"><font size=\"3\"><b>Monica:</b> What for?</font></p>\\n\\n<p align=\"left\"><font size=\"3\"><b>Rachel:</b> I\\'m gonna go get one of those (Thinks) job\\nthings.</font></p>\\n\\n<p align=\"left\"><font size=\"3\">(Monica exits.)</font></p>\\n\\n<p align=\"left\"><font size=\"3\">[Scene: Iridium, Monica is working as Frannie enters.] </p>\\n\\n<p><b>Frannie:</b> Hey, Monica! </p>\\n\\n<p><b>Monica:</b> Hey Frannie, welcome back! How was Florida? </p>\\n\\n<p><b>Frannie:</b> You had sex, didn\\'t you? </p>\\n\\n<p><b>Monica:</b> How do you do that?</font></p>\\n\\n<p><font color=\"#0000FF\"><b>Frannie:</b> Oh, I hate you, I\\'m pushing my Aunt Roz through\\nParrot Jungle and you\\'re having sex!&nbsp; </font>So? Who? </p>\\n\\n<p><b>Monica:</b> You know Paul? </p>\\n\\n<p><b>Frannie:</b> Paul the Wine Guy? Oh yeah, I know Paul. </p>\\n\\n<p><b>Monica:</b> You mean you know Paul like I know Paul? </p>\\n\\n<p><b>Frannie:</b> Are you kidding? I take credit for Paul. Y\\'know before me, there was no\\nsnap in his turtle for two years. </p>\\n\\n<p>[Scene: Central Perk, everyone but Rachel is there.]</p>\\n\\n<p><b>Joey:</b> (sitting on the arm of the couch)Of course it was a line! </p>\\n\\n<p><b>Monica:</b> Why?! Why? Why, why would anybody do something like that? </p>\\n\\n<p><b>Ross:</b> I assume we\\'re looking for an answer more sophisticated than \\'to get you\\ninto bed\\'. </p>\\n\\n<p><font color=\"#0000FF\"><strong>Monica: </strong>I hate men!&nbsp; I hate men!</font></p>\\n\\n<p align=\"left\"><font size=\"3\" color=\"#0000FF\"><b>Phoebe:</b> Oh no, don\\'t hate, you don\\'t\\nwant to put that out into the universe.</font></p>\\n\\n<p align=\"left\"><font size=\"3\"><b>Monica:</b> Is it me? Is it like I have some sort of\\nbeacon that only dogs and men with severe emotional problems can hear? </p>\\n\\n<p><b>Phoebe:</b> All right, c\\'mere, gimme your feet. (She starts massaging them.) </p>\\n\\n<p><b>Monica:</b> I just thought he was nice, y\\'know? </p>\\n\\n<p><b>Joey:</b> (bursts out laughing again) I can\\'t believe you didn\\'t know it was a line!\\n</p>\\n\\n<p>(Monica pushes him off of the sofa as Rachel enters with a shopping bag.) </p>\\n\\n<p><b>Rachel:</b> Guess what? </p>\\n\\n<p><b>Ross:</b> You got a job? </p>\\n\\n<p><b>Rachel:</b> Are you kidding? I\\'m trained for nothing! I was laughed out of twelve\\ninterviews today. </p>\\n\\n<p><b>Chandler:</b> And yet you\\'re surprisingly upbeat. </p>\\n\\n<p><b>Rachel:</b> You would be too if you found John and David boots on sale, fifty\\npercent off! </p>\\n\\n<p><b>Chandler:</b> Oh, how well you know me... </p>\\n\\n<p><b>Rachel:</b> They\\'re my new \\'I don\\'t need a job, I don\\'t need my parents, I\\'ve got\\ngreat boots\\' boots! </p>\\n\\n<p><b>Monica:</b> How\\'d you pay for them? </p>\\n\\n<p><b>Rachel:</b> Uh, credit card. </p>\\n\\n<p><b>Monica:</b> And who pays for that? </p>\\n\\n<p><b>Rachel:</b> Um... my... father. </p>\\n\\n<p>[Scene: Monica and Rachel\\'s, everyone is sitting around the kitchen table. &nbsp;\\nRachel\\'s credit cards are spread out on the table along with a pair of scissors.]</font></p>\\n\\n<p align=\"left\"><font size=\"3\"><font color=\"#0000FF\"><b>Rachel:</b> Oh God, come on you\\nguys, is this really necessary?&nbsp; I mean, I can stop charging anytime I want.</font> </p>\\n\\n<p><b>Monica:</b> C\\'mon, you can\\'t live off your parents your whole life. </p>\\n\\n<p><b>Rachel:</b> I know that. That\\'s why I was getting married. </p>\\n\\n<p><b>Phoebe:</b> Give her a break, it\\'s hard being on your own for the first time. </p>\\n\\n<p><b>Rachel:</b> Thank you. </p>\\n\\n<p><b>Phoebe:</b> You\\'re welcome. I remember when I first came to this city. I was\\nfourteen. My mom had just killed herself and my step-dad was back in prison, and I got\\nhere, and I didn\\'t know anybody. And I ended up living with this albino guy who was, like,\\ncleaning windshields outside port authority, and then he killed himself, and then I found\\naromatherapy. So believe me, I know exactly how you feel. </p>\\n\\n<p>(Pause) </p>\\n\\n<p><b>Ross:</b> The word you\\'re looking for is \\'Anyway\\'... </p>\\n\\n<p><b>Monica:</b> <font color=\"#0000FF\">All right, </font>you ready?</font></p>\\n\\n<p align=\"left\"><font size=\"3\" color=\"#0000FF\"><b>Rachel:</b> No.&nbsp; No, no, I\\'m not\\nready!&nbsp; How can I be ready?&nbsp; &quot;Hey, Rach!&nbsp; You ready to jump out the\\nairplane without your parachute?&quot;&nbsp; Come on, I can\\'t do this!</font></p>\\n\\n<p align=\"left\"><font size=\"3\"><font color=\"#0000FF\"><b>Monica:</b> You can, I know you\\ncan!</font> </p>\\n\\n<p><b>Rachel:</b> I don\\'t think so.</font></p>\\n\\n<p align=\"left\"><font size=\"3\"><font color=\"#0000FF\"><b>Ross:</b> Come on, you made\\ncoffee! &nbsp; You can do anything! (Chandler slowly tries to hide the now dead plant from\\nthat morning when he and Joey poured their coffee into it.)</font></p>\\n\\n<p><b>Ross:</b> C\\'mon, cut. Cut, cut, cut,... </p>\\n\\n<p><b>All:</b> Cut, cut, cut, cut, cut, cut, cut... (She cuts one of them and they cheer.)</font></p>\\n\\n<p align=\"left\"><font size=\"3\" color=\"#0000FF\"><b>Rachel:</b> Y\\'know what?&nbsp; I think\\nwe can just leave it at that.&nbsp; It\\'s kinda like a symbolic gesture...</font></p>\\n\\n<p align=\"left\"><font size=\"3\"><font color=\"#0000FF\"><b>Monica:</b>&nbsp; Rachel!&nbsp;\\nThat was a library card!</font> </p>\\n\\n<p><b>All:</b> Cut, cut, cut, cut, cut, cut, cut..</font></p>\\n\\n<p align=\"left\"><font size=\"3\" color=\"#0000FF\"><b>Chandler:</b> (as Rachel is cutting up\\nher cards) Y\\'know, if you listen closely, you can hear a thousand retailers scream. </font></p>\\n\\n<p align=\"left\"><font size=\"3\" color=\"#0000FF\">(She finishes cutting them up and they all\\ncheer.)</font></p>\\n\\n<p align=\"left\"><font size=\"3\"><b>Monica:</b> Welcome to the real world! It sucks. You\\'re\\ngonna love it! </p>\\n\\n<p>[Time Lapse, Rachel and Ross are watching a TV channel finishes it\\'s broadcast day by\\nplaying the national anthem.] </p>\\n\\n<p><b>Monica:</b> Well, that\\'s it (To Ross) You gonna crash on the couch? </p>\\n\\n<p><b>Ross:</b> No. No, I gotta go home sometime. </p>\\n\\n<p><b>Monica:</b> You be okay? </p>\\n\\n<p><b>Ross:</b> Yeah. </p>\\n\\n<p><b>Rachel:</b> Hey Mon, look what I just found on the floor. (Monica smiles.) What? </p>\\n\\n<p><b>Monica:</b> That\\'s Paul\\'s watch. You just put it back where you found it. Oh boy.\\nAlright. Goodnight, everybody. </font></p>\\n\\n<p align=\"left\"><font size=\"3\" color=\"#0000FF\"><b>Ross and Rachel:</b> Goodnight.</font></p>\\n\\n<p align=\"left\"><font size=\"3\">(Monica stomps on Paul\\'s watch and goes into her room.)</p>\\n\\n<p><b>Ross:</b> Mmm. (They both reach for the last cookie) Oh, no- </p>\\n\\n<p><b>Rachel:</b> Sorry- </p>\\n\\n<p><b>Ross:</b> No no no, go- </p>\\n\\n<p><b>Rachel:</b> No, you have it, really, I don\\'t want it- </p>\\n\\n<p><b>Ross:</b> Split it? </p>\\n\\n<p><b>Rachel:</b> Okay. </p>\\n\\n<p><b>Ross:</b> Okay. (They split it.) You know you probably didn\\'t know this, but back in\\nhigh school, I had a, um, major crush on you. </p>\\n\\n<p><b>Rachel:</b> I knew. </p>\\n\\n<p><b>Ross:</b> You did! Oh.... I always figured you just thought I was Monica\\'s geeky\\nolder brother. </p>\\n\\n<p><b>Rachel:</b> I did. </p>\\n\\n<p><b>Ross:</b> Oh. Listen, do you think- and try not to let my intense vulnerability\\nbecome any kind of a factor here- but do you think it would be okay if I asked you out?\\nSometime? Maybe? </p>\\n\\n<p><b>Rachel:</b> Yeah, maybe... </p>\\n\\n<p><b>Ross:</b> Okay... okay, maybe I will... </p>\\n\\n<p><b>Rachel:</b> Goodnight. </p>\\n\\n<p><b>Ross:</b> Goodnight. </p>\\n\\n<p>(Rachel goes into her room and Monica enters the living room as Ross is leaving.) </p>\\n\\n<p><b>Monica:</b> See ya.... Waitwait, what\\'s with you? </p>\\n\\n<p><b>Ross:</b> I just grabbed a spoon. (Ross exits and Monica has no idea what that\\nmeans.) </p>\\n\\n<p align=\"center\"><b>Closing Credits</b></p>\\n\\n<p>[Scene: Central Perk, everyone is there.] </p>\\n\\n<p><b>Joey:</b> I can\\'t believe what I\\'m hearing here. </p>\\n\\n<p><b>Phoebe:</b> (sings) <em>I can\\'t believe what I\\'m hearing here... </em></p>\\n\\n<p><b>Monica:</b> What? I-I said you had a- </p>\\n\\n<p><b>Phoebe:</b> (sings) <em>What I said you had... </em></p>\\n\\n<p><b>Monica:</b> (to Phoebe) Would you stop? </p>\\n\\n<p><b>Phoebe:</b> Oh, was I doing it again?</font></p>\\n\\n<p align=\"left\"><font size=\"3\" color=\"#0000FF\"><b>All:</b> Yes!</font></p>\\n\\n<p align=\"left\"><font size=\"3\" color=\"#0000FF\"><b>Monica:</b> I said that you had a nice\\nbutt, it\\'s just not a great butt.</font></p>\\n\\n<p align=\"left\"><font size=\"3\" color=\"#0000FF\"><b>Joey:</b> Oh, you wouldn\\'t know a great\\nbutt if it came up and bit ya.</font></p>\\n\\n<p align=\"left\"><font size=\"3\"><font color=\"#0000FF\"><b>Ross:</b> There\\'s an image.</font>\\n</p>\\n\\n<p><b>Rachel:</b> (walks up with a pot of coffee) Would anybody like more coffee? </p>\\n\\n<p><b>Chandler:</b> Did you make it, or are you just serving it? </p>\\n\\n<p><b>Rachel:</b> I\\'m just serving it. </p>\\n\\n<p><b>All:</b> Yeah. Yeah, I\\'ll have a cup of coffee. </p>\\n\\n<p><b>Chandler:</b> Kids, new dream... I\\'m in Las Vegas. <font color=\"#0000FF\">(Rachel\\nsits down to hear Chandler\\'s dream.)</font></font></p>\\n\\n<p align=\"left\"><font size=\"3\"><font color=\"#0000FF\"><strong>Customer:</strong> (To\\nRachel) Ahh, miss? &nbsp; More coffee?</font> <font color=\"#0000FF\"></p>\\n\\n<p><b>Rachel:</b> Ugh. (To another customer that\\'s leaving.) Excuse me, could you give\\nthis to that guy over there? (Hands him the coffee pot.) Go ahead. (He does so.) Thank\\nyou. (To the gang.) Sorry.&nbsp; Okay, Las Vegas.</font></font></p>\\n\\n<p align=\"left\"><font size=\"3\"><b>Chandler:</b> <font color=\"#0000FF\">Okay, so, I\\'m in Las\\nVegas... </font>I\\'m Liza Minelli- </font></p>\\n\\n<p align=\"center\"><strong><font size=\"3\">End</font></strong></p>\\n'"
     },
     "execution_count": 13,
     "metadata": {},
     "output_type": "execute_result"
    }
   ],
   "source": [
    "res[\"texts\"].tolist()[0]"
   ],
   "metadata": {
    "collapsed": false
   }
  }
 ],
 "metadata": {
  "kernelspec": {
   "display_name": "Python 3",
   "language": "python",
   "name": "python3"
  },
  "language_info": {
   "codemirror_mode": {
    "name": "ipython",
    "version": 2
   },
   "file_extension": ".py",
   "mimetype": "text/x-python",
   "name": "python",
   "nbconvert_exporter": "python",
   "pygments_lexer": "ipython2",
   "version": "2.7.6"
  }
 },
 "nbformat": 4,
 "nbformat_minor": 0
}
